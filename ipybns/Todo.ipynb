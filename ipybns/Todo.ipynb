{
 "cells": [
  {
   "cell_type": "code",
   "execution_count": 1,
   "id": "1f4c11da",
   "metadata": {},
   "outputs": [],
   "source": [
    "import sqlite3\n",
    "import xml.etree.ElementTree as ET\n",
    "import pandas as pd\n",
    "import matplotlib.pyplot as plt\n",
    "import numpy as np\n",
    "import csv"
   ]
  },
  {
   "cell_type": "code",
   "execution_count": null,
   "id": "48ab5c31",
   "metadata": {},
   "outputs": [],
   "source": [
    "connection = sqlite3.connect('../chembl_29_sqlite (1)/chembl_29_sqlite/chembl_29.db')\n",
    "cursor = connection.cursor()\n",
    "query = \"SELECT ACT.ACTIVITY_ID, ASY.ASSAY_ID, ACT.MOLREGNO , ASY.CELL_ID, ACT.STANDARD_VALUE,ACT.STANDARD_UNITS\"\n",
    "    \", ACT.STANDARD_TYPE \" \\\n",
    "    \" FROM ACTIVITIES ACT INNER JOIN ASSAYS ASY ON ACT.ASSAY_ID = ASY.ASSAY_ID\" \\\n",
    "    \" WHERE ASY.CELL_ID IS NOT NULL\"\n",
    "cursor.execute(query)\n",
    "activity_dictionary = cursor.fetchall()\n",
    "activity_columns =['activity_id','assay_id','molregno','cell_id','std_value','std_units','std_type']\n",
    "activity_df = pd.DataFrame(activity_dictionary,activity_columns)"
   ]
  },
  {
   "cell_type": "code",
   "execution_count": null,
   "id": "93ba8b8e",
   "metadata": {},
   "outputs": [],
   "source": [
    "raw_act = activity_df[activity_df['std_type'].isin(['IC50','CC50','EC50','GI50'])]"
   ]
  },
  {
   "cell_type": "code",
   "execution_count": null,
   "id": "397ec9f7",
   "metadata": {},
   "outputs": [],
   "source": [
    "raw_act = raw_act[raw_act['std_units'].isin(['nM', '10^4M', '/uM', \"10'-11uM\", \"10'10uM\", \"10'8pM\", \n",
    "                                             \"10'7pM\", \"10'6pM\", \"10'5pM\", \"10'-4nM\", \"10'6uM\", \"10'5uM\", 'µM'])]"
   ]
  },
  {
   "cell_type": "code",
   "execution_count": null,
   "id": "22002d71",
   "metadata": {},
   "outputs": [],
   "source": [
    "#TRANSFORMACIONES A uM\n",
    "\n",
    "# nM\n",
    "raw_act.loc[ raw_act['std_units'] == 'nM',['std_value']] * 0.001\n",
    "raw_act.loc[ raw_act['std_units'] == 'nM',['std_units']] = 'uM'\n",
    "\n",
    "# 10^4M \n",
    "raw_act.loc[ raw_act['std_units'] == '10^4M',['std_value']] * 10**4\n",
    "raw_act.loc[ raw_act['std_units'] == '10^4M',['std_value']] * 1000000\n",
    "raw_act.loc[ raw_act['std_units'] == '10^4M',['std_units']] = 'uM'\n",
    "\n",
    "# /uM \n",
    "raw_act.loc[ raw_act['std_units'] == '/uM',['std_units']] = 'uM'\n",
    "\n",
    "# 10'-11uM \n",
    "raw_act.loc[ raw_act['std_units'] == \"10'-11uM\",['std_value']] * 10**-11\n",
    "raw_act.loc[ raw_act['std_units'] == \"10'-11uM\",['std_units']] = 'uM'\n",
    "\n",
    "# 10'10uM\n",
    "raw_act.loc[ raw_act['std_units'] == \"10'10uM\",['std_value']] * 10**10\n",
    "raw_act.loc[ raw_act['std_units'] == \"10'10uM\",['std_units']] = 'uM'\n",
    "\n",
    "# 10'8pM  \n",
    "raw_act.loc[ raw_act['std_units'] == \"10'8pM\",['std_value']] * 10**8\n",
    "raw_act.loc[ raw_act['std_units'] == \"10'8pM\",['std_value']] * 1000000\n",
    "raw_act.loc[ raw_act['std_units'] == \"10'8pM\",['std_units']] = 'uM'\n",
    "\n",
    "# 10'7pM\n",
    "raw_act.loc[ raw_act['std_units'] == \"10'7pM\",['std_value']] * 10**7\n",
    "raw_act.loc[ raw_act['std_units'] == \"10'7pM\",['std_value']] * 0.000001\n",
    "raw_act.loc[ raw_act['std_units'] == \"10'7pM\",['std_units']] = 'uM'\n",
    "\n",
    "# 10'6pM \n",
    "raw_act.loc[ raw_act['std_units'] == \"10'6pM\",['std_value']] * 10**6\n",
    "raw_act.loc[ raw_act['std_units'] == \"10'6pM\",['std_value']] * 0.000001\n",
    "raw_act.loc[ raw_act['std_units'] == \"10'6pM\",['std_units']] = 'uM'\n",
    "\n",
    "# 10'5pM    \n",
    "raw_act.loc[ raw_act['std_units'] == \"10'5pM\",['std_value']] * 10**5\n",
    "raw_act.loc[ raw_act['std_units'] == \"10'5pM\",['std_value']] * 0.000001\n",
    "raw_act.loc[ raw_act['std_units'] == \"10'5pM\",['std_units']] = 'uM'\n",
    "\n",
    "# 10'-4nM  \n",
    "raw_act.loc[ raw_act['std_units'] == \"10'-4nM\",['std_value']] * 10**-4\n",
    "raw_act.loc[ raw_act['std_units'] == \"10'-4nM\",['std_value']] * 0.001\n",
    "raw_act.loc[ raw_act['std_units'] == \"10'-4nM\",['std_units']] = 'uM'\n",
    "\n",
    "# 10'6uM  \n",
    "raw_act.loc[ raw_act['std_units'] == \"10'6uM\",['std_value']] * 10**6\n",
    "raw_act.loc[ raw_act['std_units'] == \"10'6uM\",['std_units']] = 'uM'\n",
    "\n",
    "# 10'5uM\n",
    "raw_act.loc[ raw_act['std_units'] == \"10'5uM\",['std_value']] * 10**5\n",
    "raw_act.loc[ raw_act['std_units'] == \"10'5uM\",['std_units']] = 'uM'\n",
    "\n",
    "# µM \n",
    "raw_act.loc[ raw_act['std_units'] == \"µM\",['std_units']] = 'uM'"
   ]
  },
  {
   "cell_type": "code",
   "execution_count": null,
   "id": "c4110f5d",
   "metadata": {},
   "outputs": [],
   "source": [
    "raw_act['actividad']= np.where(raw_act['std_value']<=10.0,1,-1)"
   ]
  },
  {
   "cell_type": "code",
   "execution_count": null,
   "id": "e882d416",
   "metadata": {},
   "outputs": [],
   "source": [
    "act = pd.DataFrame(raw_act[['molregno','cell_id','active']])\n",
    "act.to_csv('../csvs/summary30.csv',header=True,index=True)\n",
    "act=pd.read_csv('../csvs/summary30.csv',index_col=0).drop_duplicates(keep='first')\n",
    "df_count = act.groupby(by=['molregno','cell_id'])\n",
    "index1 = pd.MultiIndex.from_arrays([act[col] for col in ['molregno', 'cell_id']])\n",
    "index2 = df_count.index\n",
    "summ_act=act.loc[index1.isin(index2)]"
   ]
  },
  {
   "cell_type": "code",
   "execution_count": null,
   "id": "f8d871de",
   "metadata": {},
   "outputs": [],
   "source": [
    "size = summ_act.shape[0]\n",
    "print (len(summ_act[summ_act['active'].isin([1])])/size)\n",
    "print (len(summ_act[summ_act['active'].isin([-1])])/size)"
   ]
  },
  {
   "cell_type": "code",
   "execution_count": null,
   "id": "18c617ea",
   "metadata": {},
   "outputs": [],
   "source": [
    "comp_in_act = summary.groupby(by=['compound_id', 'active']).size().groupby(by=['compound_id'])\n",
    "        .size()[summary.groupby(by=['compound_id', 'active']).size().groupby(by=['compound_id']).size()==2].index\n",
    "b_summary = summary[summary['compound_id'].isin(comp_in_act)]\n",
    "b_summary"
   ]
  },
  {
   "cell_type": "code",
   "execution_count": null,
   "id": "d542ec24",
   "metadata": {},
   "outputs": [],
   "source": [
    "lista_compuestos = []\n",
    "for i in b_summary['cell_id'].unique(): #i es el cell id\n",
    "    lista_compuestos.append([i, list(b_summary[b_summary['cell_id' ]== i]['compound_id']), \n",
    "                             list(b_summary[b_summary['cell_id' ]== i]['active'])])"
   ]
  },
  {
   "cell_type": "code",
   "execution_count": null,
   "id": "966ab637",
   "metadata": {},
   "outputs": [],
   "source": [
    "index1 = pd.MultiIndex.from_arrays([v30[col] for col in ['compound_id', 'cell_id']])\n",
    "index2 = pd.MultiIndex.from_arrays([v29[col] for col in ['compound_id', 'cell_id']])\n",
    "v30_ni = v30.loc[~index1.isin(index2)]\n",
    "v30_ni.columns =['compound_id','cell_id','active']\n",
    "v30_ni"
   ]
  },
  {
   "cell_type": "code",
   "execution_count": null,
   "id": "0f024197",
   "metadata": {},
   "outputs": [],
   "source": [
    "################# esto es el algoritmo del sistema de recomendacion\n",
    "conj_to_predict = pd.read_csv('../csvs/compounds30_ni_29.csv', index_col = 0)\n",
    "top3 = pd.read_csv('../csvs/comp_sim_df_v30.csv', index_col=0)\n",
    "perfil_afinidad_activity = pd.read_csv('../csvs/perfil_afinidad_celulas_29_plusActivity, Obtener perfiles de afinidad.csv')\n",
    "conj_to_predict = conj_to_predict.sort_values('compound_id')\n",
    "conj_to_predict = conj_to_predict.assign(prediccion='')\n",
    "conj_to_predict.reset_index(drop=True, inplace=True)\n",
    "#esta función retorna la lista de compuestos que interactuan con una celula, además de la actividad\n",
    "def get_listaCompuestos_conActividad(cell):\n",
    "    try:\n",
    "        lista_compuestos_actividad = \n",
    "        [eval(perfil_afinidad_activity['id_compuestos_actividad'][perfil_afinidad_activity['cell_id']==cell].tolist()[0]),\n",
    "                        eval(perfil_afinidad_activity['activity'][perfil_afinidad_activity['cell_id']==cell].tolist()[0])]\n",
    "    except:\n",
    "        lista_compuestos_actividad = []\n",
    "    return lista_compuestos_actividad\n",
    "#esta función retorna los compuestos (en forma de lista) pertenecientes al top3 del compuesto que se envia como parámetro\n",
    "def get_top3_compound(compuesto):\n",
    "    top3_compuesto = []\n",
    "    try:\n",
    "        top3_compuesto = eval(top3['top3'][top3['comp_id'] == compuesto].tolist()[0])\n",
    "    except:\n",
    "        pass\n",
    "    return top3_compuesto"
   ]
  },
  {
   "cell_type": "code",
   "execution_count": null,
   "id": "5c320761",
   "metadata": {},
   "outputs": [],
   "source": [
    "for i in conj_to_predict.index: #Recorro el conjunto de datos a predecir\n",
    "    array_interaccion = []\n",
    "    compuesto_a_predecir = conj_to_predict['compound_id'][i] #Par compuesto - línea celular al que se \n",
    "    linea_celular_a_predecir = conj_to_predict['cell_id'][i] #le va a realizar la predicción\n",
    "    perfil_afinidad = get_listaCompuestos_conActividad(linea_celular_a_predecir) #Obtención del perfil de afinidad\n",
    "    if perfil_afinidad:\n",
    "        for j in perfil_afinidad[0]:\n",
    "            top3_cada_compuesto = get_top3_compound(j)#Obtención del top3 de cada compuesto del perfil de afinidad\n",
    "            if top3_cada_compuesto:\n",
    "                if compuesto_a_predecir in top3_cada_compuesto:\n",
    "                    array_interaccion.append(perfil_afinidad[0].index(j))#Aquí se guarda el índice del valor de la interacción\n",
    "    else:\n",
    "        conj_to_predict.at[i, 'prediccion'] = 'NA' #En caso de que no exista un perfil de afinidad para la línea celular\n",
    "        \n",
    "    if len(array_interaccion) > 0:\n",
    "        if len(array_interaccion) == 1: #Si existe solo un valor de interacción, se coloca ese valor en la predicción\n",
    "            conj_to_predict.at[i, 'prediccion'] = perfil_afinidad[1][array_interaccion[0]]\n",
    "        elif len(array_interaccion) > 1: #Se verifica que todos los valores de interacción sean iguales\n",
    "            resultado = all(element == array_interaccion[0] for element in array_interaccion)\n",
    "            if (resultado): #En caso de que todos los valores sean iguales\n",
    "                conj_to_predict.at[i, 'prediccion'] = perfil_afinidad[1][array_interaccion[0]]\n",
    "            else: #En caso de que no todos los valores sean iguales\n",
    "                conj_to_predict.at[i, 'prediccion'] = 0     "
   ]
  },
  {
   "cell_type": "code",
   "execution_count": null,
   "id": "5c665090",
   "metadata": {},
   "outputs": [],
   "source": [
    "#Matriz de confusión y accuracy\n",
    "lista_valores_reales = conj_to_predict['active'].to_numpy()\n",
    "lista_predicciones = conj_to_predict['prediccion'].to_numpy()"
   ]
  },
  {
   "cell_type": "code",
   "execution_count": null,
   "id": "522c3378",
   "metadata": {},
   "outputs": [],
   "source": [
    "matrix = confusion_matrix(lista_valores_reales, lista_predicciones)\n",
    "matrix"
   ]
  },
  {
   "cell_type": "code",
   "execution_count": null,
   "id": "ecdc356a",
   "metadata": {},
   "outputs": [],
   "source": [
    "target_names = ['Prediccion -1', 'Prediccion 0', 'Prediccion 1']\n",
    "print(classification_report(lista_valores_reales, lista_predicciones, target_names=target_names))"
   ]
  }
 ],
 "metadata": {
  "kernelspec": {
   "display_name": "Python 3 (ipykernel)",
   "language": "python",
   "name": "python3"
  },
  "language_info": {
   "codemirror_mode": {
    "name": "ipython",
    "version": 3
   },
   "file_extension": ".py",
   "mimetype": "text/x-python",
   "name": "python",
   "nbconvert_exporter": "python",
   "pygments_lexer": "ipython3",
   "version": "3.9.12"
  }
 },
 "nbformat": 4,
 "nbformat_minor": 5
}

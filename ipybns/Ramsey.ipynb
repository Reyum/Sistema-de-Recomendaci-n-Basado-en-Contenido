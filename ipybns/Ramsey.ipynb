{
 "cells": [
  {
   "cell_type": "code",
   "execution_count": 2,
   "id": "6db2d7c0",
   "metadata": {},
   "outputs": [],
   "source": [
    "import math as mt \n",
    "from numpy import random\n",
    "import pandas as pd\n",
    "import numpy as np\n",
    "from statistics import mode"
   ]
  },
  {
   "cell_type": "code",
   "execution_count": 3,
   "id": "090d13ac",
   "metadata": {},
   "outputs": [],
   "source": [
    "lista_mapp = pd.read_csv('../csvs/listas_top10_mapping.csv')\n",
    "summary = pd.read_csv('../csvs/activity_29.csv',index_col=0)\n",
    "gt_predict=  pd.read_csv('../csvs/compounds30_ni_29.csv',index_col=0)"
   ]
  },
  {
   "cell_type": "code",
   "execution_count": 9,
   "id": "44fbc3e2",
   "metadata": {},
   "outputs": [
    {
     "data": {
      "text/html": [
       "<div>\n",
       "<style scoped>\n",
       "    .dataframe tbody tr th:only-of-type {\n",
       "        vertical-align: middle;\n",
       "    }\n",
       "\n",
       "    .dataframe tbody tr th {\n",
       "        vertical-align: top;\n",
       "    }\n",
       "\n",
       "    .dataframe thead th {\n",
       "        text-align: right;\n",
       "    }\n",
       "</style>\n",
       "<table border=\"1\" class=\"dataframe\">\n",
       "  <thead>\n",
       "    <tr style=\"text-align: right;\">\n",
       "      <th></th>\n",
       "      <th>compound_id</th>\n",
       "      <th>cell_id</th>\n",
       "      <th>active</th>\n",
       "    </tr>\n",
       "  </thead>\n",
       "  <tbody>\n",
       "    <tr>\n",
       "      <th>229</th>\n",
       "      <td>209873</td>\n",
       "      <td>726</td>\n",
       "      <td>-1</td>\n",
       "    </tr>\n",
       "    <tr>\n",
       "      <th>230</th>\n",
       "      <td>209885</td>\n",
       "      <td>726</td>\n",
       "      <td>-1</td>\n",
       "    </tr>\n",
       "    <tr>\n",
       "      <th>1314</th>\n",
       "      <td>176450</td>\n",
       "      <td>620</td>\n",
       "      <td>-1</td>\n",
       "    </tr>\n",
       "    <tr>\n",
       "      <th>1315</th>\n",
       "      <td>176451</td>\n",
       "      <td>620</td>\n",
       "      <td>-1</td>\n",
       "    </tr>\n",
       "    <tr>\n",
       "      <th>1316</th>\n",
       "      <td>176180</td>\n",
       "      <td>620</td>\n",
       "      <td>-1</td>\n",
       "    </tr>\n",
       "    <tr>\n",
       "      <th>...</th>\n",
       "      <td>...</td>\n",
       "      <td>...</td>\n",
       "      <td>...</td>\n",
       "    </tr>\n",
       "    <tr>\n",
       "      <th>5986812</th>\n",
       "      <td>2524417</td>\n",
       "      <td>646</td>\n",
       "      <td>-1</td>\n",
       "    </tr>\n",
       "    <tr>\n",
       "      <th>5987115</th>\n",
       "      <td>2537313</td>\n",
       "      <td>646</td>\n",
       "      <td>-1</td>\n",
       "    </tr>\n",
       "    <tr>\n",
       "      <th>5987119</th>\n",
       "      <td>2531656</td>\n",
       "      <td>1213</td>\n",
       "      <td>-1</td>\n",
       "    </tr>\n",
       "    <tr>\n",
       "      <th>5987120</th>\n",
       "      <td>2537326</td>\n",
       "      <td>1213</td>\n",
       "      <td>-1</td>\n",
       "    </tr>\n",
       "    <tr>\n",
       "      <th>5987121</th>\n",
       "      <td>2531656</td>\n",
       "      <td>630</td>\n",
       "      <td>-1</td>\n",
       "    </tr>\n",
       "  </tbody>\n",
       "</table>\n",
       "<p>12242 rows × 3 columns</p>\n",
       "</div>"
      ],
      "text/plain": [
       "         compound_id  cell_id  active\n",
       "229           209873      726      -1\n",
       "230           209885      726      -1\n",
       "1314          176450      620      -1\n",
       "1315          176451      620      -1\n",
       "1316          176180      620      -1\n",
       "...              ...      ...     ...\n",
       "5986812      2524417      646      -1\n",
       "5987115      2537313      646      -1\n",
       "5987119      2531656     1213      -1\n",
       "5987120      2537326     1213      -1\n",
       "5987121      2531656      630      -1\n",
       "\n",
       "[12242 rows x 3 columns]"
      ]
     },
     "execution_count": 9,
     "metadata": {},
     "output_type": "execute_result"
    }
   ],
   "source": [
    "compounds_pred = gt_predict[gt_predict['cell_id'].isin(lista_mapp['cell_id'].tolist())]\n",
    "compounds_pred"
   ]
  },
  {
   "cell_type": "code",
   "execution_count": 11,
   "id": "1585ae37",
   "metadata": {},
   "outputs": [
    {
     "name": "stdout",
     "output_type": "stream",
     "text": [
      "         compound_id   cell_id    active\n",
      "229        17.143686  0.059304 -0.000082\n",
      "230        17.144666  0.059304 -0.000082\n",
      "1314       14.413495  0.050645 -0.000082\n",
      "1315       14.413576  0.050645 -0.000082\n",
      "1316       14.391439  0.050645 -0.000082\n",
      "...              ...       ...       ...\n",
      "5986812   206.209525  0.052769 -0.000082\n",
      "5987115   207.262947  0.052769 -0.000082\n",
      "5987119   206.800850  0.099085 -0.000082\n",
      "5987120   207.264009  0.099085 -0.000082\n",
      "5987121   206.800850  0.051462 -0.000082\n",
      "\n",
      "[11980 rows x 3 columns]\n",
      "         compound_id  cell_id  active\n",
      "327104        370877      669       1\n",
      "563871        513815      294       1\n",
      "937621        351597      635       1\n",
      "3821705      1353233      842       1\n",
      "3821706      1353234      842       1\n",
      "...              ...      ...     ...\n",
      "5979423       492039      649       1\n",
      "5979424      1173247      649       1\n",
      "5983608      2535300      408       1\n",
      "5984929       695878      726       1\n",
      "5985011       695878      408       1\n",
      "\n",
      "[262 rows x 3 columns]\n"
     ]
    }
   ],
   "source": [
    "print(compounds_pred[compounds_pred['active'] == -1])\n",
    "print(compounds_pred[compounds_pred['active'] == 1])"
   ]
  }
 ],
 "metadata": {
  "kernelspec": {
   "display_name": "Python 3 (ipykernel)",
   "language": "python",
   "name": "python3"
  },
  "language_info": {
   "codemirror_mode": {
    "name": "ipython",
    "version": 3
   },
   "file_extension": ".py",
   "mimetype": "text/x-python",
   "name": "python",
   "nbconvert_exporter": "python",
   "pygments_lexer": "ipython3",
   "version": "3.9.12"
  }
 },
 "nbformat": 4,
 "nbformat_minor": 5
}

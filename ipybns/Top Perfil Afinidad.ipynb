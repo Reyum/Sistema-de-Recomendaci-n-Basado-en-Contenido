{
 "cells": [
  {
   "cell_type": "code",
   "execution_count": 2,
   "id": "87748f4d",
   "metadata": {},
   "outputs": [],
   "source": [
    "import numpy as np\n",
    "import pandas as pd\n",
    "import re"
   ]
  },
  {
   "cell_type": "code",
   "execution_count": 119,
   "id": "70284977",
   "metadata": {},
   "outputs": [],
   "source": [
    "concurrencia = pd.read_csv('../csvs/concurrencia_compuestos_positivos_29, Obtener perfiles de afinidad.csv')"
   ]
  },
  {
   "cell_type": "code",
   "execution_count": 120,
   "id": "b540d090",
   "metadata": {},
   "outputs": [
    {
     "data": {
      "text/html": [
       "<div>\n",
       "<style scoped>\n",
       "    .dataframe tbody tr th:only-of-type {\n",
       "        vertical-align: middle;\n",
       "    }\n",
       "\n",
       "    .dataframe tbody tr th {\n",
       "        vertical-align: top;\n",
       "    }\n",
       "\n",
       "    .dataframe thead th {\n",
       "        text-align: right;\n",
       "    }\n",
       "</style>\n",
       "<table border=\"1\" class=\"dataframe\">\n",
       "  <thead>\n",
       "    <tr style=\"text-align: right;\">\n",
       "      <th></th>\n",
       "      <th>compound-id</th>\n",
       "      <th>veces_repetido</th>\n",
       "    </tr>\n",
       "  </thead>\n",
       "  <tbody>\n",
       "    <tr>\n",
       "      <th>0</th>\n",
       "      <td>152995</td>\n",
       "      <td>418</td>\n",
       "    </tr>\n",
       "    <tr>\n",
       "      <th>1</th>\n",
       "      <td>1927101</td>\n",
       "      <td>409</td>\n",
       "    </tr>\n",
       "    <tr>\n",
       "      <th>2</th>\n",
       "      <td>5105</td>\n",
       "      <td>283</td>\n",
       "    </tr>\n",
       "    <tr>\n",
       "      <th>3</th>\n",
       "      <td>71516</td>\n",
       "      <td>278</td>\n",
       "    </tr>\n",
       "    <tr>\n",
       "      <th>4</th>\n",
       "      <td>187372</td>\n",
       "      <td>271</td>\n",
       "    </tr>\n",
       "    <tr>\n",
       "      <th>...</th>\n",
       "      <td>...</td>\n",
       "      <td>...</td>\n",
       "    </tr>\n",
       "    <tr>\n",
       "      <th>22513</th>\n",
       "      <td>582443</td>\n",
       "      <td>1</td>\n",
       "    </tr>\n",
       "    <tr>\n",
       "      <th>22514</th>\n",
       "      <td>582430</td>\n",
       "      <td>1</td>\n",
       "    </tr>\n",
       "    <tr>\n",
       "      <th>22515</th>\n",
       "      <td>582426</td>\n",
       "      <td>1</td>\n",
       "    </tr>\n",
       "    <tr>\n",
       "      <th>22516</th>\n",
       "      <td>582425</td>\n",
       "      <td>1</td>\n",
       "    </tr>\n",
       "    <tr>\n",
       "      <th>22517</th>\n",
       "      <td>2486465</td>\n",
       "      <td>1</td>\n",
       "    </tr>\n",
       "  </tbody>\n",
       "</table>\n",
       "<p>22518 rows × 2 columns</p>\n",
       "</div>"
      ],
      "text/plain": [
       "       compound-id  veces_repetido\n",
       "0           152995             418\n",
       "1          1927101             409\n",
       "2             5105             283\n",
       "3            71516             278\n",
       "4           187372             271\n",
       "...            ...             ...\n",
       "22513       582443               1\n",
       "22514       582430               1\n",
       "22515       582426               1\n",
       "22516       582425               1\n",
       "22517      2486465               1\n",
       "\n",
       "[22518 rows x 2 columns]"
      ]
     },
     "execution_count": 120,
     "metadata": {},
     "output_type": "execute_result"
    }
   ],
   "source": [
    "#concurrencia[concurrencia['compound-id' ]== 1413]\n",
    "#concurrencia[concurrencia['veces_repetido' ]== 2]\n",
    "concurrencia"
   ]
  },
  {
   "cell_type": "code",
   "execution_count": 3,
   "id": "03be594a",
   "metadata": {},
   "outputs": [
    {
     "name": "stderr",
     "output_type": "stream",
     "text": [
      "C:\\Users\\Reyum\\AppData\\Local\\Temp\\ipykernel_16896\\2741853805.py:2: FutureWarning: The default value of regex will change from True to False in a future version. In addition, single character regular expressions will *not* be treated as literal strings when regex=True.\n",
      "  perfil_afinidad_positivos['id_compuestos_actividad_positiva'] = perfil_afinidad_positivos['id_compuestos_actividad_positiva'].str.replace(\"[\",\"\")\n",
      "C:\\Users\\Reyum\\AppData\\Local\\Temp\\ipykernel_16896\\2741853805.py:3: FutureWarning: The default value of regex will change from True to False in a future version. In addition, single character regular expressions will *not* be treated as literal strings when regex=True.\n",
      "  perfil_afinidad_positivos['id_compuestos_actividad_positiva'] = perfil_afinidad_positivos['id_compuestos_actividad_positiva'].str.replace(\"]\",\"\")\n"
     ]
    }
   ],
   "source": [
    "perfil_afinidad_positivos = pd.read_csv('../csvs/perfil_afinidad_positivos_29, Obtener perfiles de afinidad.csv')\n",
    "perfil_afinidad_positivos['id_compuestos_actividad_positiva'] = perfil_afinidad_positivos['id_compuestos_actividad_positiva'].str.replace(\"[\",\"\")\n",
    "perfil_afinidad_positivos['id_compuestos_actividad_positiva'] = perfil_afinidad_positivos['id_compuestos_actividad_positiva'].str.replace(\"]\",\"\")"
   ]
  },
  {
   "cell_type": "code",
   "execution_count": 4,
   "id": "d80555bd",
   "metadata": {},
   "outputs": [
    {
     "data": {
      "text/html": [
       "<div>\n",
       "<style scoped>\n",
       "    .dataframe tbody tr th:only-of-type {\n",
       "        vertical-align: middle;\n",
       "    }\n",
       "\n",
       "    .dataframe tbody tr th {\n",
       "        vertical-align: top;\n",
       "    }\n",
       "\n",
       "    .dataframe thead th {\n",
       "        text-align: right;\n",
       "    }\n",
       "</style>\n",
       "<table border=\"1\" class=\"dataframe\">\n",
       "  <thead>\n",
       "    <tr style=\"text-align: right;\">\n",
       "      <th></th>\n",
       "      <th>cell_id</th>\n",
       "      <th>id_compuestos_actividad_positiva</th>\n",
       "    </tr>\n",
       "  </thead>\n",
       "  <tbody>\n",
       "    <tr>\n",
       "      <th>0</th>\n",
       "      <td>1</td>\n",
       "      <td>2580, 5105, 1148287</td>\n",
       "    </tr>\n",
       "    <tr>\n",
       "      <th>1</th>\n",
       "      <td>3</td>\n",
       "      <td>287231, 2304079</td>\n",
       "    </tr>\n",
       "    <tr>\n",
       "      <th>2</th>\n",
       "      <td>5</td>\n",
       "      <td>5105, 56458, 56459, 71516, 78759, 151991, 1529...</td>\n",
       "    </tr>\n",
       "    <tr>\n",
       "      <th>3</th>\n",
       "      <td>21</td>\n",
       "      <td>71516, 152995, 560078, 1294151, 1927101</td>\n",
       "    </tr>\n",
       "    <tr>\n",
       "      <th>4</th>\n",
       "      <td>27</td>\n",
       "      <td>1143686, 1568505</td>\n",
       "    </tr>\n",
       "    <tr>\n",
       "      <th>...</th>\n",
       "      <td>...</td>\n",
       "      <td>...</td>\n",
       "    </tr>\n",
       "    <tr>\n",
       "      <th>1088</th>\n",
       "      <td>5907</td>\n",
       "      <td>1427050, 2399675, 2421410, 2462186</td>\n",
       "    </tr>\n",
       "    <tr>\n",
       "      <th>1089</th>\n",
       "      <td>5922</td>\n",
       "      <td>2341613, 2484315</td>\n",
       "    </tr>\n",
       "    <tr>\n",
       "      <th>1090</th>\n",
       "      <td>5923</td>\n",
       "      <td>2083889</td>\n",
       "    </tr>\n",
       "    <tr>\n",
       "      <th>1091</th>\n",
       "      <td>5924</td>\n",
       "      <td>232036, 2469807</td>\n",
       "    </tr>\n",
       "    <tr>\n",
       "      <th>1092</th>\n",
       "      <td>5931</td>\n",
       "      <td>923, 2471419, 2471677, 2471958, 2473036, 24753...</td>\n",
       "    </tr>\n",
       "  </tbody>\n",
       "</table>\n",
       "<p>1093 rows × 2 columns</p>\n",
       "</div>"
      ],
      "text/plain": [
       "      cell_id                   id_compuestos_actividad_positiva\n",
       "0           1                                2580, 5105, 1148287\n",
       "1           3                                    287231, 2304079\n",
       "2           5  5105, 56458, 56459, 71516, 78759, 151991, 1529...\n",
       "3          21            71516, 152995, 560078, 1294151, 1927101\n",
       "4          27                                   1143686, 1568505\n",
       "...       ...                                                ...\n",
       "1088     5907                 1427050, 2399675, 2421410, 2462186\n",
       "1089     5922                                   2341613, 2484315\n",
       "1090     5923                                            2083889\n",
       "1091     5924                                    232036, 2469807\n",
       "1092     5931  923, 2471419, 2471677, 2471958, 2473036, 24753...\n",
       "\n",
       "[1093 rows x 2 columns]"
      ]
     },
     "execution_count": 4,
     "metadata": {},
     "output_type": "execute_result"
    }
   ],
   "source": [
    "perfil_afinidad_positivos"
   ]
  },
  {
   "cell_type": "code",
   "execution_count": 76,
   "id": "4d3b09e0",
   "metadata": {},
   "outputs": [
    {
     "data": {
      "text/plain": [
       "12"
      ]
     },
     "execution_count": 76,
     "metadata": {},
     "output_type": "execute_result"
    }
   ],
   "source": [
    "perfil_afinidad_positivos['id_compuestos_actividad_positiva'][0].find(\"1148287\")"
   ]
  },
  {
   "cell_type": "code",
   "execution_count": 5,
   "id": "654ac5b1",
   "metadata": {},
   "outputs": [],
   "source": [
    "#list(perfil_afinidad_positivos['id_compuestos_actividad_positiva'][0].split(','))\n",
    "#list(perfil_afinidad_positivos['id_compuestos_actividad_positiva'][1].split(',')).index(30)\n",
    "\n",
    "x = perfil_afinidad_positivos['id_compuestos_actividad_positiva'].apply(func=str.split,args=(','))"
   ]
  },
  {
   "cell_type": "code",
   "execution_count": 6,
   "id": "14c4ec8a",
   "metadata": {},
   "outputs": [],
   "source": [
    "def strToList(string):\n",
    "    return [e.strip() for e in string.split(',')]    "
   ]
  },
  {
   "cell_type": "code",
   "execution_count": 7,
   "id": "9a88de10",
   "metadata": {},
   "outputs": [
    {
     "data": {
      "text/plain": [
       "['2580', '5105', '1148287']"
      ]
     },
     "execution_count": 7,
     "metadata": {},
     "output_type": "execute_result"
    }
   ],
   "source": [
    "y = strToList(perfil_afinidad_positivos['id_compuestos_actividad_positiva'][0])\n",
    "y"
   ]
  },
  {
   "cell_type": "code",
   "execution_count": 8,
   "id": "acc7b6c9",
   "metadata": {},
   "outputs": [],
   "source": [
    "x = perfil_afinidad_positivos['id_compuestos_actividad_positiva'].apply(strToList)"
   ]
  },
  {
   "cell_type": "code",
   "execution_count": 9,
   "id": "18d31adb",
   "metadata": {},
   "outputs": [
    {
     "data": {
      "text/plain": [
       "0                                   [2580, 5105, 1148287]\n",
       "1                                       [287231, 2304079]\n",
       "2       [5105, 56458, 56459, 71516, 78759, 151991, 152...\n",
       "3               [71516, 152995, 560078, 1294151, 1927101]\n",
       "4                                      [1143686, 1568505]\n",
       "                              ...                        \n",
       "1088                 [1427050, 2399675, 2421410, 2462186]\n",
       "1089                                   [2341613, 2484315]\n",
       "1090                                            [2083889]\n",
       "1091                                    [232036, 2469807]\n",
       "1092    [923, 2471419, 2471677, 2471958, 2473036, 2475...\n",
       "Name: id_compuestos_actividad_positiva, Length: 1093, dtype: object"
      ]
     },
     "execution_count": 9,
     "metadata": {},
     "output_type": "execute_result"
    }
   ],
   "source": [
    "x"
   ]
  },
  {
   "cell_type": "code",
   "execution_count": 16,
   "id": "cc75d325",
   "metadata": {},
   "outputs": [
    {
     "data": {
      "text/html": [
       "<div>\n",
       "<style scoped>\n",
       "    .dataframe tbody tr th:only-of-type {\n",
       "        vertical-align: middle;\n",
       "    }\n",
       "\n",
       "    .dataframe tbody tr th {\n",
       "        vertical-align: top;\n",
       "    }\n",
       "\n",
       "    .dataframe thead th {\n",
       "        text-align: right;\n",
       "    }\n",
       "</style>\n",
       "<table border=\"1\" class=\"dataframe\">\n",
       "  <thead>\n",
       "    <tr style=\"text-align: right;\">\n",
       "      <th></th>\n",
       "      <th>top3</th>\n",
       "      <th>id_29</th>\n",
       "      <th>pref_name</th>\n",
       "      <th>smiles</th>\n",
       "    </tr>\n",
       "    <tr>\n",
       "      <th>comp_id</th>\n",
       "      <th></th>\n",
       "      <th></th>\n",
       "      <th></th>\n",
       "      <th></th>\n",
       "    </tr>\n",
       "  </thead>\n",
       "  <tbody>\n",
       "    <tr>\n",
       "      <th>30</th>\n",
       "      <td>[11852, 1025, 41]</td>\n",
       "      <td>789</td>\n",
       "      <td>METOPROLOL</td>\n",
       "      <td>COCCc1ccc(OCC(O)CNC(C)C)cc1</td>\n",
       "    </tr>\n",
       "    <tr>\n",
       "      <th>35</th>\n",
       "      <td>[]</td>\n",
       "      <td>1022</td>\n",
       "      <td>ARECOLINE</td>\n",
       "      <td>COC(=O)C1=CCCN(C)C1</td>\n",
       "    </tr>\n",
       "    <tr>\n",
       "      <th>37</th>\n",
       "      <td>[732, 1969, 12063]</td>\n",
       "      <td>1216</td>\n",
       "      <td>TRIMETHOPRIM</td>\n",
       "      <td>COc1cc(Cc2cnc(N)nc2N)cc(OC)c1OC</td>\n",
       "    </tr>\n",
       "    <tr>\n",
       "      <th>43</th>\n",
       "      <td>[253, 9820, 195]</td>\n",
       "      <td>1370</td>\n",
       "      <td>PROPRANOLOL</td>\n",
       "      <td>CC(C)NCC(O)COc1cccc2ccccc12</td>\n",
       "    </tr>\n",
       "    <tr>\n",
       "      <th>74</th>\n",
       "      <td>[423, 16216, 16217]</td>\n",
       "      <td>2214</td>\n",
       "      <td>SEROTONIN</td>\n",
       "      <td>NCCc1c[nH]c2ccc(O)cc12</td>\n",
       "    </tr>\n",
       "    <tr>\n",
       "      <th>...</th>\n",
       "      <td>...</td>\n",
       "      <td>...</td>\n",
       "      <td>...</td>\n",
       "      <td>...</td>\n",
       "    </tr>\n",
       "    <tr>\n",
       "      <th>38360</th>\n",
       "      <td>[38361, 2954, 2982]</td>\n",
       "      <td>1745509</td>\n",
       "      <td>NaN</td>\n",
       "      <td>NCCCNCCCNC1CCCCCCCCCCCCCC1</td>\n",
       "    </tr>\n",
       "    <tr>\n",
       "      <th>38886</th>\n",
       "      <td>[]</td>\n",
       "      <td>1786544</td>\n",
       "      <td>NaN</td>\n",
       "      <td>CS(=O)(=O)N[C@@H](c1ccc(CNC[C@H]2COc3cccnc3O2)...</td>\n",
       "    </tr>\n",
       "    <tr>\n",
       "      <th>39403</th>\n",
       "      <td>[3001, 3002, 3000]</td>\n",
       "      <td>141871</td>\n",
       "      <td>NaN</td>\n",
       "      <td>CCc1cc2c3[nH]c4c(N)cccc4c3cc[n+]2nc1CC</td>\n",
       "    </tr>\n",
       "    <tr>\n",
       "      <th>46946</th>\n",
       "      <td>[46954, 46962, 15475]</td>\n",
       "      <td>2055476</td>\n",
       "      <td>NaN</td>\n",
       "      <td>CC1CCCN(CCCCCOc2ccc(Cl)cc2)C1</td>\n",
       "    </tr>\n",
       "    <tr>\n",
       "      <th>46961</th>\n",
       "      <td>[46948, 46953, 46956]</td>\n",
       "      <td>2055491</td>\n",
       "      <td>NaN</td>\n",
       "      <td>Clc1ccc(OCCCCCCCN2CCCCC2)cc1</td>\n",
       "    </tr>\n",
       "  </tbody>\n",
       "</table>\n",
       "<p>138 rows × 4 columns</p>\n",
       "</div>"
      ],
      "text/plain": [
       "                          top3    id_29     pref_name  \\\n",
       "comp_id                                                 \n",
       "30           [11852, 1025, 41]      789    METOPROLOL   \n",
       "35                          []     1022     ARECOLINE   \n",
       "37          [732, 1969, 12063]     1216  TRIMETHOPRIM   \n",
       "43            [253, 9820, 195]     1370   PROPRANOLOL   \n",
       "74         [423, 16216, 16217]     2214     SEROTONIN   \n",
       "...                        ...      ...           ...   \n",
       "38360      [38361, 2954, 2982]  1745509           NaN   \n",
       "38886                       []  1786544           NaN   \n",
       "39403       [3001, 3002, 3000]   141871           NaN   \n",
       "46946    [46954, 46962, 15475]  2055476           NaN   \n",
       "46961    [46948, 46953, 46956]  2055491           NaN   \n",
       "\n",
       "                                                    smiles  \n",
       "comp_id                                                     \n",
       "30                             COCCc1ccc(OCC(O)CNC(C)C)cc1  \n",
       "35                                     COC(=O)C1=CCCN(C)C1  \n",
       "37                         COc1cc(Cc2cnc(N)nc2N)cc(OC)c1OC  \n",
       "43                             CC(C)NCC(O)COc1cccc2ccccc12  \n",
       "74                                  NCCc1c[nH]c2ccc(O)cc12  \n",
       "...                                                    ...  \n",
       "38360                           NCCCNCCCNC1CCCCCCCCCCCCCC1  \n",
       "38886    CS(=O)(=O)N[C@@H](c1ccc(CNC[C@H]2COc3cccnc3O2)...  \n",
       "39403               CCc1cc2c3[nH]c4c(N)cccc4c3cc[n+]2nc1CC  \n",
       "46946                        CC1CCCN(CCCCCOc2ccc(Cl)cc2)C1  \n",
       "46961                         Clc1ccc(OCCCCCCCN2CCCCC2)cc1  \n",
       "\n",
       "[138 rows x 4 columns]"
      ]
     },
     "execution_count": 16,
     "metadata": {},
     "output_type": "execute_result"
    }
   ],
   "source": [
    "# top3 = pd.read_csv('../csvs/comp_sim_df.csv', index_col=0)\n",
    "top3 = pd.read_csv('../csvs/top3_with_smiles, fix_top3.csv', index_col = 0)\n",
    "top3 = top3.sort_values('comp_id')\n",
    "top3"
   ]
  },
  {
   "cell_type": "code",
   "execution_count": 20,
   "id": "08012b27",
   "metadata": {},
   "outputs": [
    {
     "name": "stderr",
     "output_type": "stream",
     "text": [
      "C:\\Users\\Reyum\\AppData\\Local\\Temp\\ipykernel_16896\\3239780100.py:6: FutureWarning: elementwise comparison failed; returning scalar instead, but in the future will perform elementwise comparison\n",
      "  result = np.where(lst == var)\n"
     ]
    },
    {
     "ename": "ValueError",
     "evalue": "('Lengths must match to compare', (138,), (3,))",
     "output_type": "error",
     "traceback": [
      "\u001b[1;31m---------------------------------------------------------------------------\u001b[0m",
      "\u001b[1;31mValueError\u001b[0m                                Traceback (most recent call last)",
      "Input \u001b[1;32mIn [20]\u001b[0m, in \u001b[0;36m<module>\u001b[1;34m\u001b[0m\n\u001b[0;32m      2\u001b[0m \u001b[38;5;28;01mfor\u001b[39;00m i \u001b[38;5;129;01min\u001b[39;00m \u001b[38;5;28mrange\u001b[39m(top3[\u001b[38;5;124m'\u001b[39m\u001b[38;5;124mid_29\u001b[39m\u001b[38;5;124m'\u001b[39m]\u001b[38;5;241m.\u001b[39msize):\n\u001b[0;32m      3\u001b[0m     var \u001b[38;5;241m=\u001b[39m top3[\u001b[38;5;124m'\u001b[39m\u001b[38;5;124mid_29\u001b[39m\u001b[38;5;124m'\u001b[39m]\n\u001b[1;32m----> 4\u001b[0m     cuenta \u001b[38;5;241m=\u001b[39m \u001b[43mcontar\u001b[49m\u001b[43m(\u001b[49m\u001b[43mvar\u001b[49m\u001b[43m)\u001b[49m\n\u001b[0;32m      5\u001b[0m     lista1\u001b[38;5;241m.\u001b[39mappend([var, cuenta])\n\u001b[0;32m      6\u001b[0m \u001b[38;5;28mprint\u001b[39m(\u001b[38;5;124m\"\u001b[39m\u001b[38;5;124mvariable, contador\u001b[39m\u001b[38;5;124m\"\u001b[39m,var, cuenta)\n",
      "Input \u001b[1;32mIn [19]\u001b[0m, in \u001b[0;36mcontar\u001b[1;34m(var)\u001b[0m\n\u001b[0;32m      4\u001b[0m lst \u001b[38;5;241m=\u001b[39m x[i]\n\u001b[0;32m      5\u001b[0m lst \u001b[38;5;241m=\u001b[39m np\u001b[38;5;241m.\u001b[39marray(lst)\n\u001b[1;32m----> 6\u001b[0m result \u001b[38;5;241m=\u001b[39m np\u001b[38;5;241m.\u001b[39mwhere(\u001b[43mlst\u001b[49m\u001b[43m \u001b[49m\u001b[38;5;241;43m==\u001b[39;49m\u001b[43m \u001b[49m\u001b[43mvar\u001b[49m)\n\u001b[0;32m      7\u001b[0m \u001b[38;5;28;01mif\u001b[39;00m result[\u001b[38;5;241m0\u001b[39m] \u001b[38;5;241m==\u001b[39m \u001b[38;5;241m0\u001b[39m:\n\u001b[0;32m      8\u001b[0m     cont \u001b[38;5;241m=\u001b[39m cont \u001b[38;5;241m+\u001b[39m \u001b[38;5;241m1\u001b[39m\n",
      "File \u001b[1;32mD:\\Programas\\Anaconda\\lib\\site-packages\\pandas\\core\\ops\\common.py:70\u001b[0m, in \u001b[0;36m_unpack_zerodim_and_defer.<locals>.new_method\u001b[1;34m(self, other)\u001b[0m\n\u001b[0;32m     66\u001b[0m             \u001b[38;5;28;01mreturn\u001b[39;00m \u001b[38;5;28mNotImplemented\u001b[39m\n\u001b[0;32m     68\u001b[0m other \u001b[38;5;241m=\u001b[39m item_from_zerodim(other)\n\u001b[1;32m---> 70\u001b[0m \u001b[38;5;28;01mreturn\u001b[39;00m \u001b[43mmethod\u001b[49m\u001b[43m(\u001b[49m\u001b[38;5;28;43mself\u001b[39;49m\u001b[43m,\u001b[49m\u001b[43m \u001b[49m\u001b[43mother\u001b[49m\u001b[43m)\u001b[49m\n",
      "File \u001b[1;32mD:\\Programas\\Anaconda\\lib\\site-packages\\pandas\\core\\arraylike.py:40\u001b[0m, in \u001b[0;36mOpsMixin.__eq__\u001b[1;34m(self, other)\u001b[0m\n\u001b[0;32m     38\u001b[0m \u001b[38;5;129m@unpack_zerodim_and_defer\u001b[39m(\u001b[38;5;124m\"\u001b[39m\u001b[38;5;124m__eq__\u001b[39m\u001b[38;5;124m\"\u001b[39m)\n\u001b[0;32m     39\u001b[0m \u001b[38;5;28;01mdef\u001b[39;00m \u001b[38;5;21m__eq__\u001b[39m(\u001b[38;5;28mself\u001b[39m, other):\n\u001b[1;32m---> 40\u001b[0m     \u001b[38;5;28;01mreturn\u001b[39;00m \u001b[38;5;28;43mself\u001b[39;49m\u001b[38;5;241;43m.\u001b[39;49m\u001b[43m_cmp_method\u001b[49m\u001b[43m(\u001b[49m\u001b[43mother\u001b[49m\u001b[43m,\u001b[49m\u001b[43m \u001b[49m\u001b[43moperator\u001b[49m\u001b[38;5;241;43m.\u001b[39;49m\u001b[43meq\u001b[49m\u001b[43m)\u001b[49m\n",
      "File \u001b[1;32mD:\\Programas\\Anaconda\\lib\\site-packages\\pandas\\core\\series.py:5623\u001b[0m, in \u001b[0;36mSeries._cmp_method\u001b[1;34m(self, other, op)\u001b[0m\n\u001b[0;32m   5620\u001b[0m rvalues \u001b[38;5;241m=\u001b[39m extract_array(other, extract_numpy\u001b[38;5;241m=\u001b[39m\u001b[38;5;28;01mTrue\u001b[39;00m, extract_range\u001b[38;5;241m=\u001b[39m\u001b[38;5;28;01mTrue\u001b[39;00m)\n\u001b[0;32m   5622\u001b[0m \u001b[38;5;28;01mwith\u001b[39;00m np\u001b[38;5;241m.\u001b[39merrstate(\u001b[38;5;28mall\u001b[39m\u001b[38;5;241m=\u001b[39m\u001b[38;5;124m\"\u001b[39m\u001b[38;5;124mignore\u001b[39m\u001b[38;5;124m\"\u001b[39m):\n\u001b[1;32m-> 5623\u001b[0m     res_values \u001b[38;5;241m=\u001b[39m \u001b[43mops\u001b[49m\u001b[38;5;241;43m.\u001b[39;49m\u001b[43mcomparison_op\u001b[49m\u001b[43m(\u001b[49m\u001b[43mlvalues\u001b[49m\u001b[43m,\u001b[49m\u001b[43m \u001b[49m\u001b[43mrvalues\u001b[49m\u001b[43m,\u001b[49m\u001b[43m \u001b[49m\u001b[43mop\u001b[49m\u001b[43m)\u001b[49m\n\u001b[0;32m   5625\u001b[0m \u001b[38;5;28;01mreturn\u001b[39;00m \u001b[38;5;28mself\u001b[39m\u001b[38;5;241m.\u001b[39m_construct_result(res_values, name\u001b[38;5;241m=\u001b[39mres_name)\n",
      "File \u001b[1;32mD:\\Programas\\Anaconda\\lib\\site-packages\\pandas\\core\\ops\\array_ops.py:260\u001b[0m, in \u001b[0;36mcomparison_op\u001b[1;34m(left, right, op)\u001b[0m\n\u001b[0;32m    255\u001b[0m \u001b[38;5;28;01mif\u001b[39;00m \u001b[38;5;28misinstance\u001b[39m(rvalues, (np\u001b[38;5;241m.\u001b[39mndarray, ABCExtensionArray)):\n\u001b[0;32m    256\u001b[0m     \u001b[38;5;66;03m# TODO: make this treatment consistent across ops and classes.\u001b[39;00m\n\u001b[0;32m    257\u001b[0m     \u001b[38;5;66;03m#  We are not catching all listlikes here (e.g. frozenset, tuple)\u001b[39;00m\n\u001b[0;32m    258\u001b[0m     \u001b[38;5;66;03m#  The ambiguous case is object-dtype.  See GH#27803\u001b[39;00m\n\u001b[0;32m    259\u001b[0m     \u001b[38;5;28;01mif\u001b[39;00m \u001b[38;5;28mlen\u001b[39m(lvalues) \u001b[38;5;241m!=\u001b[39m \u001b[38;5;28mlen\u001b[39m(rvalues):\n\u001b[1;32m--> 260\u001b[0m         \u001b[38;5;28;01mraise\u001b[39;00m \u001b[38;5;167;01mValueError\u001b[39;00m(\n\u001b[0;32m    261\u001b[0m             \u001b[38;5;124m\"\u001b[39m\u001b[38;5;124mLengths must match to compare\u001b[39m\u001b[38;5;124m\"\u001b[39m, lvalues\u001b[38;5;241m.\u001b[39mshape, rvalues\u001b[38;5;241m.\u001b[39mshape\n\u001b[0;32m    262\u001b[0m         )\n\u001b[0;32m    264\u001b[0m \u001b[38;5;28;01mif\u001b[39;00m should_extension_dispatch(lvalues, rvalues) \u001b[38;5;129;01mor\u001b[39;00m (\n\u001b[0;32m    265\u001b[0m     (\u001b[38;5;28misinstance\u001b[39m(rvalues, (Timedelta, BaseOffset, Timestamp)) \u001b[38;5;129;01mor\u001b[39;00m right \u001b[38;5;129;01mis\u001b[39;00m NaT)\n\u001b[0;32m    266\u001b[0m     \u001b[38;5;129;01mand\u001b[39;00m \u001b[38;5;129;01mnot\u001b[39;00m is_object_dtype(lvalues\u001b[38;5;241m.\u001b[39mdtype)\n\u001b[0;32m    267\u001b[0m ):\n\u001b[0;32m    268\u001b[0m     \u001b[38;5;66;03m# Call the method on lvalues\u001b[39;00m\n\u001b[0;32m    269\u001b[0m     res_values \u001b[38;5;241m=\u001b[39m op(lvalues, rvalues)\n",
      "\u001b[1;31mValueError\u001b[0m: ('Lengths must match to compare', (138,), (3,))"
     ]
    }
   ],
   "source": [
    "lista1 = []\n",
    "for i in range(top3['id_29'].size):\n",
    "    var = top3['id_29']\n",
    "    cuenta = contar(var)\n",
    "    lista1.append([var, cuenta])\n",
    "print(\"variable, contador\",var, cuenta)\n",
    "\n",
    "# temp = '5105'\n",
    "# cuenta = contar(temp)\n",
    "# lista1.append([temp, cuenta])\n",
    "# print(lista1)\n"
   ]
  },
  {
   "cell_type": "code",
   "execution_count": 19,
   "id": "1d519506",
   "metadata": {},
   "outputs": [],
   "source": [
    "def contar(var):\n",
    "    cont = 0\n",
    "    for i in range(x.size):\n",
    "        lst = x[i]\n",
    "        lst = np.array(lst)\n",
    "        result = np.where(lst == var)\n",
    "        if result[0] == 0:\n",
    "            cont = cont + 1\n",
    "    return cont\n",
    "#print(\"cont\", cont)\n",
    "\n",
    "# lst = x[0]\n",
    "# lst = np.array(lst)\n",
    "# result = np.where(lst == '2580')\n",
    "# if result[0] == 0 :\n",
    "#     print(True)\n",
    "# else:\n",
    "#     print(False)"
   ]
  },
  {
   "cell_type": "code",
   "execution_count": 187,
   "id": "ea70a766",
   "metadata": {},
   "outputs": [
    {
     "name": "stdout",
     "output_type": "stream",
     "text": [
      "lista 1,2 1413 1413\n",
      "si son\n"
     ]
    }
   ],
   "source": [
    "#305, 306 | 498(363),542(14) | \n",
    "lista_compuestos = list(perfil_afinidad_positivos[perfil_afinidad_positivos['cell_id' ]== 305]['id_compuestos_actividad_positiva'])\n",
    "valor1 = lista_compuestos[0]\n",
    "lista1 = valor1.split(',')\n",
    "\n",
    "lista_compuestos2 = list(perfil_afinidad_positivos[perfil_afinidad_positivos['cell_id' ]== 306]['id_compuestos_actividad_positiva'])\n",
    "valor2 = lista_compuestos2[0]\n",
    "lista2 = valor2.split(',')\n",
    "print(\"lista 1,2\", lista1[0], lista2[0])\n",
    "if lista1[0] == lista2[0]:\n",
    "    print(\"si son\")"
   ]
  },
  {
   "cell_type": "code",
   "execution_count": 12,
   "id": "312233fb",
   "metadata": {},
   "outputs": [
    {
     "name": "stdout",
     "output_type": "stream",
     "text": [
      "cont 1093\n"
     ]
    }
   ],
   "source": [
    "cont = 0\n",
    "for i in perfil_afinidad_positivos['cell_id'].unique():\n",
    "    cont+=1\n",
    "print(\"cont\", cont)"
   ]
  },
  {
   "cell_type": "code",
   "execution_count": 11,
   "id": "d61c673f",
   "metadata": {},
   "outputs": [
    {
     "data": {
      "text/plain": [
       "['2580',\n",
       " ' 13590',\n",
       " ' 51929',\n",
       " ' 51979',\n",
       " ' 52696',\n",
       " ' 106996',\n",
       " ' 107285',\n",
       " ' 130909',\n",
       " ' 150774',\n",
       " ' 188773',\n",
       " ' 188804',\n",
       " ' 188956',\n",
       " ' 189109',\n",
       " ' 189110',\n",
       " ' 190119',\n",
       " ' 205648']"
      ]
     },
     "execution_count": 11,
     "metadata": {},
     "output_type": "execute_result"
    }
   ],
   "source": [
    "a_string = list(perfil_afinidad_positivos[perfil_afinidad_positivos['cell_id' ]== 185]['id_compuestos_actividad_positiva'])\n",
    "a_string = a_string[0].split(',')\n",
    "a_string"
   ]
  },
  {
   "cell_type": "code",
   "execution_count": null,
   "id": "d7764f11",
   "metadata": {},
   "outputs": [],
   "source": []
  }
 ],
 "metadata": {
  "kernelspec": {
   "display_name": "Python 3 (ipykernel)",
   "language": "python",
   "name": "python3"
  },
  "language_info": {
   "codemirror_mode": {
    "name": "ipython",
    "version": 3
   },
   "file_extension": ".py",
   "mimetype": "text/x-python",
   "name": "python",
   "nbconvert_exporter": "python",
   "pygments_lexer": "ipython3",
   "version": "3.9.12"
  }
 },
 "nbformat": 4,
 "nbformat_minor": 5
}
